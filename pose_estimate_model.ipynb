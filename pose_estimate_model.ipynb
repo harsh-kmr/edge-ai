{
 "cells": [
  {
   "cell_type": "code",
   "execution_count": 1,
   "id": "5c5d2e46",
   "metadata": {},
   "outputs": [],
   "source": [
    "import torch\n",
    "from torch.utils.data import Dataset, DataLoader\n",
    "from torchvision import transforms\n",
    "from PIL import Image\n",
    "import pandas as pd\n",
    "from tqdm.notebook import tqdm\n",
    "import os"
   ]
  },
  {
   "cell_type": "code",
   "execution_count": 2,
   "id": "0b1eb497",
   "metadata": {},
   "outputs": [],
   "source": [
    "class ImageDataset(Dataset):\n",
    "    def __init__(self, csv_file, img_dir, transform=None):\n",
    "        self.df = pd.read_csv(csv_file)\n",
    "        self.df.fillna(-999, inplace=True)\n",
    "        self.img_dir = img_dir\n",
    "        self.transform = transform\n",
    "\n",
    "    def __len__(self):\n",
    "        return len(self.df)\n",
    "\n",
    "    def __getitem__(self, idx):\n",
    "        if torch.is_tensor(idx):\n",
    "            idx = idx.tolist()\n",
    "\n",
    "        img_filename = self.df.iloc[idx]['frame'] + '.jpg'\n",
    "        img_path = os.path.join(self.img_dir, img_filename)\n",
    "\n",
    "        image = Image.open(img_path).convert(\"RGB\")\n",
    "\n",
    "        landmarks = self.df.iloc[idx].drop(labels='frame').to_numpy(dtype='float32')\n",
    "        landmarks = torch.tensor(landmarks)\n",
    "\n",
    "        if self.transform:\n",
    "            image = self.transform(image)\n",
    "        else:\n",
    "            # Convert image to tensor if no transform is provided\n",
    "            image = transforms.ToTensor()(image)\n",
    "\n",
    "        return image, landmarks"
   ]
  },
  {
   "cell_type": "code",
   "execution_count": 3,
   "id": "8d7dcff1",
   "metadata": {},
   "outputs": [],
   "source": [
    "csv_file = '/home/harsh/Downloads/sem2/edgeai/edge ai project/dummy data/cleaned data/landmark_dataset_converted.csv'\n",
    "img_dir = '/home/harsh/Downloads/sem2/edgeai/edge ai project/dummy data/cleaned data/frames'\n",
    "dataset = ImageDataset(csv_file, img_dir ) #transform=transform)\n",
    "dataloader = DataLoader(dataset, batch_size=32, shuffle=True)"
   ]
  },
  {
   "cell_type": "code",
   "execution_count": 4,
   "id": "9be250e6",
   "metadata": {},
   "outputs": [
    {
     "name": "stdout",
     "output_type": "stream",
     "text": [
      "torch.Size([32, 3, 960, 540]) torch.Size([32, 144])\n"
     ]
    }
   ],
   "source": [
    "# Option 1: Use the dataloader to get a batch\n",
    "for image_batch, landmark_batch in dataloader:\n",
    "    print(image_batch.shape, landmark_batch.shape)\n",
    "    break\n"
   ]
  },
  {
   "cell_type": "code",
   "execution_count": 5,
   "id": "a6f5a29d",
   "metadata": {},
   "outputs": [],
   "source": [
    "class EarlyStopping:\n",
    "    def __init__(self, patience=5, verbose=False, delta=0.0005, path='checkpoint.pt', trace_func=print):\n",
    "        self.patience = patience\n",
    "        self.verbose = verbose\n",
    "        self.counter = 0\n",
    "        self.early_stop = False\n",
    "        self.delta = delta\n",
    "        self.path = path\n",
    "        self.trace_func = trace_func\n",
    "        self.best_loss = float('inf')  \n",
    "        self.last_loss = float('inf')\n",
    "\n",
    "    def __call__(self, val_loss, model):\n",
    "        if val_loss < self.best_loss - self.delta:  \n",
    "            self.best_loss = val_loss\n",
    "            self.save_checkpoint(val_loss, model)\n",
    "            self.counter = 0\n",
    "        else:\n",
    "            self.counter += 1\n",
    "            if self.verbose:\n",
    "                self.trace_func(f'EarlyStopping counter: {self.counter} out of {self.patience}')\n",
    "            if self.counter >= self.patience:\n",
    "                self.early_stop = True\n",
    "        self.last_loss = val_loss\n",
    "\n",
    "    def save_checkpoint(self, val_loss, model):\n",
    "        if self.verbose:\n",
    "            if self.last_loss == float('inf'):\n",
    "                self.trace_func(f'First save with Validation loss --> {val_loss:.6f}. Saving model to {self.path}...')\n",
    "            else:\n",
    "                self.trace_func(f'Validation loss decreased ({self.last_loss:.6f} --> {val_loss:.6f}). Saving model to {self.path}...')\n",
    "        torch.save(model.state_dict(), self.path)"
   ]
  },
  {
   "cell_type": "code",
   "execution_count": 6,
   "id": "6276e48a",
   "metadata": {},
   "outputs": [],
   "source": [
    "import gc\n",
    "\n",
    "def sync_vram():\n",
    "    \"\"\" Synchronizes the VRAM across the GPUs, reclaiming unused memory. \"\"\"\n",
    "    gc.collect()\n",
    "    torch.cuda.empty_cache()\n",
    "    torch.cuda.synchronize()\n",
    "sync_vram()"
   ]
  },
  {
   "cell_type": "code",
   "execution_count": 7,
   "id": "c3fa5103",
   "metadata": {},
   "outputs": [],
   "source": [
    "from sklearn.metrics import accuracy_score, precision_score, recall_score, f1_score\n",
    "from sklearn.metrics import mean_absolute_error, mean_squared_error, r2_score\n",
    "import numpy as np\n",
    "\n",
    "def get_metrics_regression(y_true, y_pred, device):\n",
    "    if isinstance(y_pred, torch.Tensor):\n",
    "        y_pred = y_pred.cpu().numpy()\n",
    "    if isinstance(y_true, torch.Tensor):\n",
    "        y_true = y_true.cpu().numpy()\n",
    "    \n",
    "    metrics = {\n",
    "        \"mae\": mean_absolute_error(y_true, y_pred),\n",
    "        \"mse\": mean_squared_error(y_true, y_pred),\n",
    "        \"rmse\": np.sqrt(mean_squared_error(y_true, y_pred)),\n",
    "        \"r2\": r2_score(y_true, y_pred)\n",
    "    }\n",
    "    return metrics\n",
    "\n",
    "def get_metrics_classification(y_true, y_pred, device):\n",
    "    if isinstance(y_pred, torch.Tensor):\n",
    "        y_pred = y_pred.cpu().numpy()\n",
    "    if isinstance(y_true, torch.Tensor):\n",
    "        y_true = y_true.cpu().numpy()\n",
    "    \n",
    "    metrics = {\n",
    "        \"accuracy\": accuracy_score(y_true, y_pred),\n",
    "        \"precision\": precision_score(y_true, y_pred),\n",
    "        \"recall\": recall_score(y_true, y_pred),\n",
    "        \"f1\": f1_score(y_true, y_pred)\n",
    "    }\n",
    "    return metrics"
   ]
  },
  {
   "cell_type": "code",
   "execution_count": 8,
   "id": "f5277fdd",
   "metadata": {},
   "outputs": [],
   "source": [
    "import matplotlib.pyplot as plt\n",
    "\n",
    "def plot_training(train_losses, val_losses, train_metrics, val_metrics):\n",
    "    fig, axs = plt.subplots(2, 1, figsize=(12, 12))\n",
    "\n",
    "    axs[0].plot(train_losses, label='Training Loss', marker='o')\n",
    "    axs[0].plot(val_losses, label='Validation Loss', marker='o')\n",
    "    axs[0].set_xlabel('Epoch')\n",
    "    axs[0].set_ylabel('Loss')\n",
    "    axs[0].set_title('Loss over Epochs')\n",
    "    axs[0].legend()\n",
    "    \n",
    "    epochs = range(len(train_metrics))\n",
    "    \n",
    "    for key in train_metrics[0].keys():\n",
    "        train_values = [m[key] for m in train_metrics]\n",
    "        val_values = [m[key] for m in val_metrics]\n",
    "        axs[1].plot(epochs, train_values, label=f'Train {key.capitalize()}', marker='o')\n",
    "        axs[1].plot(epochs, val_values, label=f'Val {key.capitalize()}', marker='o')\n",
    "\n",
    "    axs[1].set_xlabel('Epoch')\n",
    "    axs[1].set_ylabel('Metric Value')\n",
    "    axs[1].set_title('Metrics over Epochs')\n",
    "    axs[1].legend()\n",
    "    \n",
    "    plt.tight_layout()\n",
    "    plt.show()"
   ]
  },
  {
   "cell_type": "code",
   "execution_count": 9,
   "id": "3d99b408",
   "metadata": {},
   "outputs": [],
   "source": [
    "class CNN_trainer():\n",
    "    def __init__(self, model, train_loader, val_loader, num_epochs=10,\n",
    "                 patience=5, verbose=True, trace_func=print, delta=0.0005,\n",
    "                 optimizer=None, loss_fn=None, l1_lambda=0.0, checkpoint_path=\"checkpoint.pt\"):\n",
    "        \n",
    "        self.checkpoint_path = checkpoint_path\n",
    "        self.model = model\n",
    "        self.num_epochs = num_epochs\n",
    "        self.patience = patience\n",
    "        self.verbose = verbose\n",
    "        self.trace_func = trace_func\n",
    "\n",
    "        self.early_stopping = EarlyStopping(patience=patience, verbose=verbose, trace_func=trace_func,\n",
    "                                            path=checkpoint_path, delta=delta)\n",
    "        self.optimizer = optimizer\n",
    "        self.loss_fn = loss_fn\n",
    "        self.l1_lambda = l1_lambda\n",
    "\n",
    "        self.train_loader = train_loader\n",
    "        self.val_loader = val_loader\n",
    "\n",
    "        self.device = torch.device(\"cuda\" if torch.cuda.is_available() else \"cpu\")\n",
    "    \n",
    "    def train_step(self):\n",
    "        running_loss = 0.0\n",
    "        all_preds = []\n",
    "        all_labels = []\n",
    "        self.model.train()\n",
    "        \n",
    "        for images, labels in (tqdm(self.train_loader) if self.verbose else self.train_loader):\n",
    "            images, labels = images.to(self.device), labels.to(self.device)\n",
    "            \n",
    "            self.optimizer.zero_grad()\n",
    "            outputs = self.model(images)\n",
    "            # No need to squeeze for regression with multiple outputs (144 values)\n",
    "            loss = self.loss_fn(outputs, labels)\n",
    "            \n",
    "            if self.l1_lambda > 0:\n",
    "                l1_norm = sum(torch.abs(param).sum() for param in self.model.parameters())\n",
    "                loss += self.l1_lambda * l1_norm\n",
    "            \n",
    "            loss.backward()\n",
    "            self.optimizer.step()\n",
    "            \n",
    "            running_loss += loss.item()\n",
    "            all_preds.append(outputs.detach().cpu())\n",
    "            all_labels.append(labels.detach().cpu())\n",
    "        \n",
    "        avg_loss = running_loss / len(self.train_loader)\n",
    "        all_preds = torch.cat(all_preds)\n",
    "        all_labels = torch.cat(all_labels)\n",
    "        metrics = get_metrics_regression(all_labels, all_preds, self.device)\n",
    "        \n",
    "        return avg_loss, metrics\n",
    "    \n",
    "    def eval_step(self, data_loader=None):\n",
    "        if data_loader is None:\n",
    "            data_loader = self.val_loader\n",
    "        \n",
    "        running_loss = 0.0\n",
    "        all_preds = []\n",
    "        all_labels = []\n",
    "        \n",
    "        self.model.eval()\n",
    "        with torch.no_grad():\n",
    "            for images, labels in data_loader:\n",
    "                images, labels = images.to(self.device), labels.to(self.device)\n",
    "                \n",
    "                outputs = self.model(images)\n",
    "                # No need to squeeze for regression with multiple outputs\n",
    "                loss = self.loss_fn(outputs, labels)\n",
    "                \n",
    "                running_loss += loss.item()\n",
    "                all_preds.append(outputs.cpu())\n",
    "                all_labels.append(labels.cpu())\n",
    "        \n",
    "        avg_loss = running_loss / len(data_loader)\n",
    "        all_preds = torch.cat(all_preds)\n",
    "        all_labels = torch.cat(all_labels)\n",
    "        metrics = get_metrics_regression(all_labels, all_preds, self.device)\n",
    "        \n",
    "        return avg_loss, metrics, all_preds, all_labels\n",
    "    \n",
    "    def fit(self):\n",
    "        self.model.to(self.device)\n",
    "        if self.verbose:\n",
    "            print(f\"Training model\")\n",
    "        \n",
    "        train_losses = []\n",
    "        val_losses = []\n",
    "        train_metrics = []\n",
    "        val_metrics = []\n",
    "\n",
    "        for epoch in range(self.num_epochs):\n",
    "            train_loss, train_metric = self.train_step()\n",
    "            train_losses.append(train_loss)\n",
    "            train_metrics.append(train_metric)\n",
    "            \n",
    "            if self.verbose:\n",
    "                self.trace_func(f\"Epoch {epoch+1}/{self.num_epochs}, Training Loss: {train_loss:.4f}, \"\n",
    "                               f\"Training MAE: {train_metric['mae']:.4f}, Training R2: {train_metric['r2']:.4f}\")\n",
    "            \n",
    "            val_loss, val_metric, _, _ = self.eval_step()\n",
    "            val_losses.append(val_loss)\n",
    "            val_metrics.append(val_metric)\n",
    "            \n",
    "            if self.verbose:\n",
    "                self.trace_func(f\"Epoch {epoch+1}/{self.num_epochs}, Validation Loss: {val_loss:.4f}, \"\n",
    "                               f\"Validation MAE: {val_metric['mae']:.4f}, Validation R2: {val_metric['r2']:.4f}\")\n",
    "            \n",
    "            self.early_stopping(val_loss, self.model)\n",
    "            if self.early_stopping.early_stop:\n",
    "                if self.verbose:\n",
    "                    self.trace_func(\"Early stopping\")\n",
    "                break\n",
    "        \n",
    "        if self.verbose:\n",
    "            plot_training(train_losses, val_losses, train_metrics, val_metrics)\n",
    "        \n",
    "        self.model.load_state_dict(torch.load(self.early_stopping.path))\n",
    "        \n",
    "        _, train_metric_final, train_preds, train_labels_all = self.eval_step(self.train_loader)\n",
    "        _, val_metric_final, val_preds, val_labels_all = self.eval_step()\n",
    "        \n",
    "        self.trace_func(\"Training metrics:\")\n",
    "        self.trace_func(train_metric_final)\n",
    "        self.trace_func(\"Validation metrics:\")\n",
    "        self.trace_func(val_metric_final)\n",
    "        \n",
    "        return self.model, train_losses, val_losses, train_metric_final, val_metric_final"
   ]
  },
  {
   "cell_type": "code",
   "execution_count": 10,
   "id": "5ddde616",
   "metadata": {},
   "outputs": [],
   "source": [
    "import torch.nn as nn\n",
    "\n",
    "class model(nn.Module):\n",
    "    def __init__(self):\n",
    "        super(model, self).__init__()\n",
    "        self.enc_conv1 = nn.Conv2d(3, 8, kernel_size=3, stride=2)\n",
    "        self.bn1 = nn.BatchNorm2d(8)\n",
    "        self.enc_conv2 = nn.Conv2d(8, 32, kernel_size=3, stride=2)\n",
    "        self.bn2 = nn.BatchNorm2d(32)\n",
    "        self.enc_conv3 = nn.Conv2d(32, 128, kernel_size=5, stride=2)\n",
    "        self.bn3 = nn.BatchNorm2d(128)\n",
    "        self.enc_conv4 = nn.Conv2d(128, 256, kernel_size=5, stride=2)\n",
    "        self.bn4 = nn.BatchNorm2d(256)\n",
    "        self.enc_conv5 = nn.Conv2d(256, 512, kernel_size=3, stride=2)\n",
    "        self.bn5 = nn.BatchNorm2d(512)\n",
    "        self.enc_conv6 = nn.Conv2d(512, 1024, kernel_size=3, stride=2)\n",
    "        self.bn6 = nn.BatchNorm2d(1024)\n",
    "        \n",
    "        self.relu = nn.ReLU()\n",
    "\n",
    "        self.linear_1 = nn.LazyLinear(256)\n",
    "        self.bn7 = nn.BatchNorm1d(256)\n",
    "        self.linear_2 = nn.Linear(256, 144)\n",
    "        \n",
    "    def forward(self, X):\n",
    "        X = self.relu(self.bn1(self.enc_conv1(X)))\n",
    "        X = self.relu(self.bn2(self.enc_conv2(X)))\n",
    "        X = self.relu(self.bn3(self.enc_conv3(X)))\n",
    "        X = self.bn4(self.enc_conv4(X))\n",
    "        X = self.relu(self.bn5(self.enc_conv5(X)))\n",
    "        X = self.bn6(self.enc_conv6(X))\n",
    "\n",
    "        X = X.flatten(start_dim=1)\n",
    "\n",
    "        X = self.relu(self.bn7(self.linear_1(X)))\n",
    "        X = self.linear_2(X)\n",
    "        return X"
   ]
  },
  {
   "cell_type": "code",
   "execution_count": 11,
   "id": "0d0ffece",
   "metadata": {},
   "outputs": [
    {
     "name": "stdout",
     "output_type": "stream",
     "text": [
      "Input shape: torch.Size([32, 3, 960, 540])\n",
      "Output shape: torch.Size([32, 144])\n",
      "Expected shape: torch.Size([32, 144])\n",
      "Do shapes match? True\n"
     ]
    }
   ],
   "source": [
    "\n",
    "net = model()\n",
    "\n",
    "dummy_input = torch.randn(32, 3, 960, 540)\n",
    "\n",
    "print(f\"Input shape: {dummy_input.shape}\")\n",
    "\n",
    "with torch.no_grad(): \n",
    "    output = net(dummy_input)\n",
    "print(f\"Output shape: {output.shape}\")\n",
    "\n",
    "expected_shape = torch.Size([32, 144])\n",
    "print(f\"Expected shape: {expected_shape}\")\n",
    "print(f\"Do shapes match? {output.shape == expected_shape}\")"
   ]
  },
  {
   "cell_type": "code",
   "execution_count": 12,
   "id": "14f9ca01",
   "metadata": {},
   "outputs": [
    {
     "name": "stdout",
     "output_type": "stream",
     "text": [
      "Training model\n"
     ]
    },
    {
     "data": {
      "application/vnd.jupyter.widget-view+json": {
       "model_id": "483a0a9ea3e2491b979017f2db2e1b33",
       "version_major": 2,
       "version_minor": 0
      },
      "text/plain": [
       "  0%|          | 0/632 [00:00<?, ?it/s]"
      ]
     },
     "metadata": {},
     "output_type": "display_data"
    },
    {
     "name": "stdout",
     "output_type": "stream",
     "text": [
      "Epoch 1/20, Training Loss: 125537.0349, Training MAE: 224.9985, Training R2: -54037.4570\n",
      "Epoch 1/20, Validation Loss: 102924.0540, Validation MAE: 188.0082, Validation R2: -985336.2500\n",
      "First save with Validation loss --> 102924.054045. Saving model to landmark_model.pt...\n"
     ]
    },
    {
     "data": {
      "application/vnd.jupyter.widget-view+json": {
       "model_id": "e288966cbd4b40b0a95893a050a83aae",
       "version_major": 2,
       "version_minor": 0
      },
      "text/plain": [
       "  0%|          | 0/632 [00:00<?, ?it/s]"
      ]
     },
     "metadata": {},
     "output_type": "display_data"
    },
    {
     "name": "stdout",
     "output_type": "stream",
     "text": [
      "Epoch 2/20, Training Loss: 67342.7007, Training MAE: 112.9133, Training R2: -21810.7734\n",
      "Epoch 2/20, Validation Loss: 57213.3137, Validation MAE: 93.0899, Validation R2: -257280.3125\n",
      "Validation loss decreased (102924.054045 --> 57213.313749). Saving model to landmark_model.pt...\n"
     ]
    },
    {
     "data": {
      "application/vnd.jupyter.widget-view+json": {
       "model_id": "448e614c9d6640489bcee246668dcc66",
       "version_major": 2,
       "version_minor": 0
      },
      "text/plain": [
       "  0%|          | 0/632 [00:00<?, ?it/s]"
      ]
     },
     "metadata": {},
     "output_type": "display_data"
    },
    {
     "name": "stdout",
     "output_type": "stream",
     "text": [
      "Epoch 3/20, Training Loss: 54254.6761, Training MAE: 84.3386, Training R2: -7144.7632\n",
      "Epoch 3/20, Validation Loss: 51107.4721, Validation MAE: 75.6597, Validation R2: -99155.8047\n",
      "Validation loss decreased (57213.313749 --> 51107.472100). Saving model to landmark_model.pt...\n"
     ]
    },
    {
     "data": {
      "application/vnd.jupyter.widget-view+json": {
       "model_id": "2535baa461ef40a8ae12237945519aa9",
       "version_major": 2,
       "version_minor": 0
      },
      "text/plain": [
       "  0%|          | 0/632 [00:00<?, ?it/s]"
      ]
     },
     "metadata": {},
     "output_type": "display_data"
    },
    {
     "name": "stdout",
     "output_type": "stream",
     "text": [
      "Epoch 4/20, Training Loss: 48444.2896, Training MAE: 73.5990, Training R2: -3580.5930\n",
      "Epoch 4/20, Validation Loss: 41341.1327, Validation MAE: 68.4073, Validation R2: -41232.7695\n",
      "Validation loss decreased (51107.472100 --> 41341.132701). Saving model to landmark_model.pt...\n"
     ]
    },
    {
     "data": {
      "application/vnd.jupyter.widget-view+json": {
       "model_id": "b06042b7e4564ad1b22487a505724f59",
       "version_major": 2,
       "version_minor": 0
      },
      "text/plain": [
       "  0%|          | 0/632 [00:00<?, ?it/s]"
      ]
     },
     "metadata": {},
     "output_type": "display_data"
    },
    {
     "name": "stdout",
     "output_type": "stream",
     "text": [
      "Epoch 5/20, Training Loss: 31011.6720, Training MAE: 65.0855, Training R2: -1302.5591\n",
      "Epoch 5/20, Validation Loss: 21936.6423, Validation MAE: 69.1855, Validation R2: -13967.0723\n",
      "Validation loss decreased (41341.132701 --> 21936.642319). Saving model to landmark_model.pt...\n"
     ]
    },
    {
     "data": {
      "application/vnd.jupyter.widget-view+json": {
       "model_id": "6089d789860642279d95f9a68acdf392",
       "version_major": 2,
       "version_minor": 0
      },
      "text/plain": [
       "  0%|          | 0/632 [00:00<?, ?it/s]"
      ]
     },
     "metadata": {},
     "output_type": "display_data"
    },
    {
     "name": "stdout",
     "output_type": "stream",
     "text": [
      "Epoch 6/20, Training Loss: 18202.2783, Training MAE: 55.9111, Training R2: -518.7030\n",
      "Epoch 6/20, Validation Loss: 15074.4582, Validation MAE: 56.7788, Validation R2: -5481.7603\n",
      "Validation loss decreased (21936.642319 --> 15074.458221). Saving model to landmark_model.pt...\n"
     ]
    },
    {
     "data": {
      "application/vnd.jupyter.widget-view+json": {
       "model_id": "586461edd5914df2a41532cb95027ee3",
       "version_major": 2,
       "version_minor": 0
      },
      "text/plain": [
       "  0%|          | 0/632 [00:00<?, ?it/s]"
      ]
     },
     "metadata": {},
     "output_type": "display_data"
    },
    {
     "name": "stdout",
     "output_type": "stream",
     "text": [
      "Epoch 7/20, Training Loss: 12255.7247, Training MAE: 50.0358, Training R2: -316.0934\n",
      "Epoch 7/20, Validation Loss: 15540.2144, Validation MAE: 52.9997, Validation R2: -5627.3589\n",
      "EarlyStopping counter: 1 out of 7\n"
     ]
    },
    {
     "data": {
      "application/vnd.jupyter.widget-view+json": {
       "model_id": "d85282e783d94028826991ef7d87882d",
       "version_major": 2,
       "version_minor": 0
      },
      "text/plain": [
       "  0%|          | 0/632 [00:00<?, ?it/s]"
      ]
     },
     "metadata": {},
     "output_type": "display_data"
    },
    {
     "name": "stdout",
     "output_type": "stream",
     "text": [
      "Epoch 8/20, Training Loss: 9474.5263, Training MAE: 44.3073, Training R2: -253.3214\n",
      "Epoch 8/20, Validation Loss: 10351.7003, Validation MAE: 42.0114, Validation R2: -4258.7144\n",
      "Validation loss decreased (15540.214359 --> 10351.700308). Saving model to landmark_model.pt...\n"
     ]
    },
    {
     "data": {
      "application/vnd.jupyter.widget-view+json": {
       "model_id": "1c983ca9c897456bbbd8c798b110bf39",
       "version_major": 2,
       "version_minor": 0
      },
      "text/plain": [
       "  0%|          | 0/632 [00:00<?, ?it/s]"
      ]
     },
     "metadata": {},
     "output_type": "display_data"
    },
    {
     "name": "stdout",
     "output_type": "stream",
     "text": [
      "Epoch 9/20, Training Loss: 7704.0423, Training MAE: 39.6155, Training R2: -208.3014\n",
      "Epoch 9/20, Validation Loss: 9346.0114, Validation MAE: 35.9324, Validation R2: -2296.4341\n",
      "Validation loss decreased (10351.700308 --> 9346.011427). Saving model to landmark_model.pt...\n"
     ]
    },
    {
     "data": {
      "application/vnd.jupyter.widget-view+json": {
       "model_id": "064c2c93d2474ad1a80b51988da0d6fc",
       "version_major": 2,
       "version_minor": 0
      },
      "text/plain": [
       "  0%|          | 0/632 [00:00<?, ?it/s]"
      ]
     },
     "metadata": {},
     "output_type": "display_data"
    },
    {
     "name": "stdout",
     "output_type": "stream",
     "text": [
      "Epoch 10/20, Training Loss: 6804.4662, Training MAE: 37.3370, Training R2: -189.7634\n",
      "Epoch 10/20, Validation Loss: 10338.8700, Validation MAE: 41.2890, Validation R2: -4313.3013\n",
      "EarlyStopping counter: 1 out of 7\n"
     ]
    },
    {
     "data": {
      "application/vnd.jupyter.widget-view+json": {
       "model_id": "7429973bb04b403e880f569d0d920e78",
       "version_major": 2,
       "version_minor": 0
      },
      "text/plain": [
       "  0%|          | 0/632 [00:00<?, ?it/s]"
      ]
     },
     "metadata": {},
     "output_type": "display_data"
    },
    {
     "name": "stdout",
     "output_type": "stream",
     "text": [
      "Epoch 11/20, Training Loss: 6162.3464, Training MAE: 35.9297, Training R2: -182.1629\n",
      "Epoch 11/20, Validation Loss: 9082.2907, Validation MAE: 37.1605, Validation R2: -4617.1616\n",
      "Validation loss decreased (10338.869958 --> 9082.290739). Saving model to landmark_model.pt...\n"
     ]
    },
    {
     "data": {
      "application/vnd.jupyter.widget-view+json": {
       "model_id": "7ce7506520dc4b2284a67ff4072d3d71",
       "version_major": 2,
       "version_minor": 0
      },
      "text/plain": [
       "  0%|          | 0/632 [00:00<?, ?it/s]"
      ]
     },
     "metadata": {},
     "output_type": "display_data"
    },
    {
     "name": "stdout",
     "output_type": "stream",
     "text": [
      "Epoch 12/20, Training Loss: 5622.8513, Training MAE: 34.5514, Training R2: -166.9078\n",
      "Epoch 12/20, Validation Loss: 8564.9668, Validation MAE: 36.8800, Validation R2: -2391.5608\n",
      "Validation loss decreased (9082.290739 --> 8564.966763). Saving model to landmark_model.pt...\n"
     ]
    },
    {
     "data": {
      "application/vnd.jupyter.widget-view+json": {
       "model_id": "62a9f0fb8c9f4d1c8639b403674fd7cc",
       "version_major": 2,
       "version_minor": 0
      },
      "text/plain": [
       "  0%|          | 0/632 [00:00<?, ?it/s]"
      ]
     },
     "metadata": {},
     "output_type": "display_data"
    },
    {
     "name": "stdout",
     "output_type": "stream",
     "text": [
      "Epoch 13/20, Training Loss: 5104.7603, Training MAE: 33.6502, Training R2: -150.2014\n",
      "Epoch 13/20, Validation Loss: 8493.3433, Validation MAE: 33.8405, Validation R2: -3150.9351\n",
      "Validation loss decreased (8564.966763 --> 8493.343345). Saving model to landmark_model.pt...\n"
     ]
    },
    {
     "data": {
      "application/vnd.jupyter.widget-view+json": {
       "model_id": "76c23890ef7b45a58fde3070be77a7f5",
       "version_major": 2,
       "version_minor": 0
      },
      "text/plain": [
       "  0%|          | 0/632 [00:00<?, ?it/s]"
      ]
     },
     "metadata": {},
     "output_type": "display_data"
    },
    {
     "name": "stdout",
     "output_type": "stream",
     "text": [
      "Epoch 14/20, Training Loss: 4752.8969, Training MAE: 32.4925, Training R2: -137.7974\n",
      "Epoch 14/20, Validation Loss: 8005.2229, Validation MAE: 33.5320, Validation R2: -4339.9263\n",
      "Validation loss decreased (8493.343345 --> 8005.222920). Saving model to landmark_model.pt...\n"
     ]
    },
    {
     "data": {
      "application/vnd.jupyter.widget-view+json": {
       "model_id": "e5d7e49f2fc044a2b10bcdffe0a92323",
       "version_major": 2,
       "version_minor": 0
      },
      "text/plain": [
       "  0%|          | 0/632 [00:00<?, ?it/s]"
      ]
     },
     "metadata": {},
     "output_type": "display_data"
    },
    {
     "name": "stdout",
     "output_type": "stream",
     "text": [
      "Epoch 15/20, Training Loss: 4307.7475, Training MAE: 31.4074, Training R2: -126.6517\n",
      "Epoch 15/20, Validation Loss: 8525.6034, Validation MAE: 42.3320, Validation R2: -5870.8174\n",
      "EarlyStopping counter: 1 out of 7\n"
     ]
    },
    {
     "data": {
      "application/vnd.jupyter.widget-view+json": {
       "model_id": "753d64adfe8140eb962f4d0c398b261e",
       "version_major": 2,
       "version_minor": 0
      },
      "text/plain": [
       "  0%|          | 0/632 [00:00<?, ?it/s]"
      ]
     },
     "metadata": {},
     "output_type": "display_data"
    },
    {
     "name": "stdout",
     "output_type": "stream",
     "text": [
      "Epoch 16/20, Training Loss: 3939.7414, Training MAE: 30.2352, Training R2: -119.2951\n",
      "Epoch 16/20, Validation Loss: 7613.1977, Validation MAE: 36.6134, Validation R2: -3352.9824\n",
      "Validation loss decreased (8525.603438 --> 7613.197681). Saving model to landmark_model.pt...\n"
     ]
    },
    {
     "data": {
      "application/vnd.jupyter.widget-view+json": {
       "model_id": "f84868f5117b42f999dcaef544051f60",
       "version_major": 2,
       "version_minor": 0
      },
      "text/plain": [
       "  0%|          | 0/632 [00:00<?, ?it/s]"
      ]
     },
     "metadata": {},
     "output_type": "display_data"
    },
    {
     "name": "stdout",
     "output_type": "stream",
     "text": [
      "Epoch 17/20, Training Loss: 3725.7561, Training MAE: 29.6187, Training R2: -112.7962\n",
      "Epoch 17/20, Validation Loss: 7311.4159, Validation MAE: 31.6117, Validation R2: -3015.8379\n",
      "Validation loss decreased (7613.197681 --> 7311.415854). Saving model to landmark_model.pt...\n"
     ]
    },
    {
     "data": {
      "application/vnd.jupyter.widget-view+json": {
       "model_id": "cad5e566fba4457d8cd34b4f34905dad",
       "version_major": 2,
       "version_minor": 0
      },
      "text/plain": [
       "  0%|          | 0/632 [00:00<?, ?it/s]"
      ]
     },
     "metadata": {},
     "output_type": "display_data"
    },
    {
     "name": "stdout",
     "output_type": "stream",
     "text": [
      "Epoch 18/20, Training Loss: 3449.9722, Training MAE: 29.1525, Training R2: -104.2086\n",
      "Epoch 18/20, Validation Loss: 6883.5256, Validation MAE: 29.6886, Validation R2: -2268.2539\n",
      "Validation loss decreased (7311.415854 --> 6883.525597). Saving model to landmark_model.pt...\n"
     ]
    },
    {
     "data": {
      "application/vnd.jupyter.widget-view+json": {
       "model_id": "62d65d97334d421eb3f3d6c3ebd16d52",
       "version_major": 2,
       "version_minor": 0
      },
      "text/plain": [
       "  0%|          | 0/632 [00:00<?, ?it/s]"
      ]
     },
     "metadata": {},
     "output_type": "display_data"
    },
    {
     "name": "stdout",
     "output_type": "stream",
     "text": [
      "Epoch 19/20, Training Loss: 3150.3664, Training MAE: 27.7753, Training R2: -95.0854\n",
      "Epoch 19/20, Validation Loss: 6964.0637, Validation MAE: 32.0871, Validation R2: -1625.5122\n",
      "EarlyStopping counter: 1 out of 7\n"
     ]
    },
    {
     "data": {
      "application/vnd.jupyter.widget-view+json": {
       "model_id": "26213c51d60a40168390fb2c6e046b44",
       "version_major": 2,
       "version_minor": 0
      },
      "text/plain": [
       "  0%|          | 0/632 [00:00<?, ?it/s]"
      ]
     },
     "metadata": {},
     "output_type": "display_data"
    },
    {
     "name": "stdout",
     "output_type": "stream",
     "text": [
      "Epoch 20/20, Training Loss: 3034.3284, Training MAE: 27.3037, Training R2: -94.4285\n",
      "Epoch 20/20, Validation Loss: 10227.0993, Validation MAE: 54.0209, Validation R2: -3279.1860\n",
      "EarlyStopping counter: 2 out of 7\n"
     ]
    },
    {
     "data": {
      "image/png": "[encoded data removed]",
      "text/plain": [
       "<Figure size 1200x1200 with 2 Axes>"
      ]
     },
     "metadata": {},
     "output_type": "display_data"
    },
    {
     "name": "stdout",
     "output_type": "stream",
     "text": [
      "Training metrics:\n",
      "{'mae': 22.686872482299805, 'mse': 2616.47705078125, 'rmse': np.float64(51.15151073801486), 'r2': -96.30021667480469}\n",
      "Validation metrics:\n",
      "{'mae': 29.688575744628906, 'mse': 6883.48876953125, 'rmse': np.float64(82.96679317372252), 'r2': -2268.25390625}\n"
     ]
    }
   ],
   "source": [
    "from torch.utils.data import random_split\n",
    "\n",
    "import torch.nn as nn\n",
    "import torch.optim as optim\n",
    "\n",
    "loss_fn = nn.MSELoss()\n",
    "\n",
    "optimizer = optim.Adam(net.parameters(), lr=0.001)\n",
    "\n",
    "# Create train and validation dataloaders (using a split of the existing dataset for demonstration)\n",
    "\n",
    "# Define split ratio (80% train, 20% validation)\n",
    "train_size = int(0.8 * len(dataset))\n",
    "val_size = len(dataset) - train_size\n",
    "train_dataset, val_dataset = random_split(dataset, [train_size, val_size])\n",
    "\n",
    "train_loader = DataLoader(train_dataset, batch_size=128, shuffle=True)\n",
    "val_loader = DataLoader(val_dataset, batch_size=128, shuffle=False)\n",
    "\n",
    "# Create trainer instance\n",
    "trainer = CNN_trainer(\n",
    "    model=net,\n",
    "    train_loader=train_loader,\n",
    "    val_loader=val_loader,\n",
    "    num_epochs=20,\n",
    "    patience=7,\n",
    "    verbose=True,\n",
    "    checkpoint_path=\"landmark_model.pt\",\n",
    "    optimizer=optimizer,\n",
    "    loss_fn=loss_fn\n",
    ")\n",
    "\n",
    "# Train model\n",
    "trained_model, train_losses, val_losses, train_metrics, val_metrics = trainer.fit()\n",
    "\n",
    "# Clean up GPU memory\n",
    "sync_vram()"
   ]
  },
  {
   "cell_type": "code",
   "execution_count": null,
   "id": "9ec60fda",
   "metadata": {},
   "outputs": [],
   "source": []
  }
 ],
 "metadata": {
  "kernelspec": {
   "display_name": "mlds",
   "language": "python",
   "name": "python3"
  },
  "language_info": {
   "codemirror_mode": {
    "name": "ipython",
    "version": 3
   },
   "file_extension": ".py",
   "mimetype": "text/x-python",
   "name": "python",
   "nbconvert_exporter": "python",
   "pygments_lexer": "ipython3",
   "version": "3.10.16"
  }
 },
 "nbformat": 4,
 "nbformat_minor": 5
}
